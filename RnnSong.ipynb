{
 "cells": [
  {
   "cell_type": "code",
   "execution_count": 3,
   "metadata": {},
   "outputs": [
    {
     "name": "stderr",
     "output_type": "stream",
     "text": [
      "Using TensorFlow backend.\n"
     ]
    }
   ],
   "source": [
    "from IPython.core.interactiveshell import InteractiveShell\n",
    "from IPython.display import HTML\n",
    "\n",
    "InteractiveShell.ast_node_interactivity = 'all'\n",
    "\n",
    "import warnings\n",
    "warnings.filterwarnings('ignore', category = RuntimeWarning)\n",
    "warnings.filterwarnings('ignore', category = UserWarning)\n",
    "\n",
    "import pandas as pd\n",
    "import numpy as np\n",
    "\n",
    "from uitilsmidi import get_data, generate_output, guess_human, seed_sequence, get_embeddings, find_closest"
   ]
  },
  {
   "cell_type": "code",
   "execution_count": 16,
   "metadata": {},
   "outputs": [],
   "source": [
    "midifiles = [\"./DATA SET/alb_esp1.mid\",\n",
    "            \"./DATA SET/alb_esp2.mid\",\n",
    "            \"./DATA SET/alb_esp3.mid\",\n",
    "            \"./DATA SET/alb_esp4.mid\",\n",
    "            \"./DATA SET/alb_esp5.mid\",\n",
    "            \"./DATA SET/alb_se1.mid\",\n",
    "            \"./DATA SET/alb_se2.mid\",\n",
    "            \"./DATA SET/alb_se3.mid\",\n",
    "            \"./DATA SET/alb_se4.mid\",\n",
    "            \"./DATA SET/alb_se5.mid\",\n",
    "            \"./DATA SET/alb_se6.mid\",\n",
    "            \"./DATA SET/alb_se7.mid\",\n",
    "            \"./DATA SET/alb_se8.mid\",\n",
    "            \"./DATA SET/bor_ps1.mid\",\n",
    "            \"./DATA SET/bor_ps2.mid\",\n",
    "            \"./DATA SET/bor_ps3.mid\",\n",
    "            \"./DATA SET/bor_ps4.mid\",\n",
    "            \"./DATA SET/bor_ps5.mid\",\n",
    "            \"./DATA SET/bor_ps6.mid\",\n",
    "            \"./DATA SET/bor_ps7.mid\",\n",
    "            \"./DATA SET/burg_agitato.mid\",\n",
    "            \"./DATA SET/burg_erwachen.mid\",\n",
    "            \"./DATA SET/burg_geschwindigkeit.mid\",\n",
    "            \"./DATA SET/burg_gewitter.mid\",\n",
    "            \"./DATA SET/burg_perlen.mid\",\n",
    "            \"./DATA SET/burg_quelle.mid\",\n",
    "            \"./DATA SET/burg_spinnerlied.mid\",\n",
    "            \"./DATA SET/burg_sylphen.mid\",\n",
    "            \"./DATA SET/burg_trennung.mid\",\n",
    "            \"./DATA SET/chp_op18.mid\",\n",
    "            \"./DATA SET/chp_op31.mid\",\n",
    "            \"./DATA SET/chpn_op10_e01.mid\",\n",
    "            \"./DATA SET/chpn_op10_e05.mid\",\n",
    "            \"./DATA SET/chpn_op10_e12.mid\",\n",
    "            \"./DATA SET/chpn_op23.mid\",\n",
    "            \"./DATA SET/chpn_op25_e1.mid\",\n",
    "            \"./DATA SET/chpn_op25_e11.mid\",\n",
    "            \"./DATA SET/chpn_op25_e12.mid\",\n",
    "            \"./DATA SET/chpn_op25_e2.mid\",\n",
    "            \"./DATA SET/chpn_op25_e3.mid\",\n",
    "            \"./DATA SET/chpn_op25_e4.mid\",\n",
    "            \"./DATA SET/chpn_op27_1.mid\",\n",
    "            \"./DATA SET/chpn_op27_2.mid\",\n",
    "            \"./DATA SET/chpn_op33_2.mid\",\n",
    "            \"./DATA SET/chpn_op33_4.mid\",\n",
    "            \"./DATA SET/chpn_op35_1.mid\",\n",
    "            \"./DATA SET/chpn_op35_2.mid\",\n",
    "            \"./DATA SET/chpn_op35_3.mid\",\n",
    "            \"./DATA SET/chpn_op35_4.mid\",\n",
    "            \"./DATA SET/chpn_op53.mid\",\n",
    "            \"./DATA SET/chpn_op66.mid\",\n",
    "            \"./DATA SET/chpn_op7_1.mid\",\n",
    "            \"./DATA SET/chpn_op7_2.mid\",\n",
    "            \"./DATA SET/chpn-p1.mid\",\n",
    "            \"./DATA SET/chpn-p10.mid\",\n",
    "            \"./DATA SET/chpn-p11.mid\",\n",
    "            \"./DATA SET/chpn-p12.mid\",\n",
    "            \"./DATA SET/chpn-p13.mid\",\n",
    "            \"./DATA SET/chpn-p14.mid\",\n",
    "            \"./DATA SET/chpn-p15.mid\",\n",
    "            \"./DATA SET/chpn-p16.mid\",\n",
    "            \"./DATA SET/chpn-p17.mid\",\n",
    "            \"./DATA SET/chpn-p18.mid\",\n",
    "            \"./DATA SET/chpn-p19.mid\",\n",
    "            \"./DATA SET/chpn-p2.mid\",\n",
    "            \"./DATA SET/chpn-p20.mid\",\n",
    "            \"./DATA SET/chpn-p21.mid\",\n",
    "            \"./DATA SET/chpn-p22.mid\",\n",
    "            \"./DATA SET/chpn-p23.mid\",\n",
    "            \"./DATA SET/chpn-p24.mid\",\n",
    "            \"./DATA SET/chpn-p3.mid\",\n",
    "            \"./DATA SET/chpn-p4.mid\",\n",
    "            \"./DATA SET/chpn-p5.mid\",\n",
    "            \"./DATA SET/chpn-p6.mid\",\n",
    "            \"./DATA SET/chpn-p7.mid\",\n",
    "            \"./DATA SET/chpn-p8.mid\",\n",
    "            \"./DATA SET/chpn-p9.mid\",\n",
    "            \"./DATA SET/grieg_album.mid\",\n",
    "            \"./DATA SET/grieg_berceuse.mid\",\n",
    "            \"./DATA SET/grieg_brooklet.mid\",\n",
    "            \"./DATA SET/grieg_butterfly.mid\",\n",
    "            \"./DATA SET/grieg_elfentanz.mid\",\n",
    "            \"./DATA SET/grieg_halling.mid\",\n",
    "            \"./DATA SET/grieg_kobold.mid\",\n",
    "            \"./DATA SET/grieg_march.mid\",\n",
    "            \"./DATA SET/grieg_once_upon_a_time.mid\",\n",
    "            \"./DATA SET/grieg_spring.mid\",\n",
    "            \"./DATA SET/grieg_voeglein.mid\",\n",
    "            \"./DATA SET/grieg_waechter.mid\",\n",
    "            \"./DATA SET/grieg_walzer.mid\",\n",
    "            \"./DATA SET/grieg_wanderer.mid\",\n",
    "            \"./DATA SET/grieg_wedding.mid\",\n",
    "            \"./DATA SET/grieg_zwerge.mid\",\n",
    "            \"./DATA SET/islamei.mid\",\n",
    "            \"./DATA SET/muss_1.mid\",\n",
    "            \"./DATA SET/muss_2.mid\",\n",
    "            \"./DATA SET/muss_3.mid\",\n",
    "            \"./DATA SET/muss_4.mid\",\n",
    "            \"./DATA SET/muss_5.mid\",\n",
    "            \"./DATA SET/muss_6.mid\",\n",
    "            \"./DATA SET/muss_7.mid\",\n",
    "            \"./DATA SET/muss_8.mid\",\n",
    "            \"./DATA SET/mz_311_1.mid\",\n",
    "            \"./DATA SET/mz_311_2.mid\",\n",
    "            \"./DATA SET/mz_311_3.mid\",\n",
    "            \"./DATA SET/mz_330_1.mid\",\n",
    "            \"./DATA SET/mz_330_2.mid\",\n",
    "            \"./DATA SET/mz_330_3.mid\",\n",
    "            \"./DATA SET/mz_331_1.mid\",\n",
    "            \"./DATA SET/mz_331_2.mid\",\n",
    "            \"./DATA SET/mz_332_1.mid\",\n",
    "            \"./DATA SET/mz_332_2.mid\",\n",
    "            \"./DATA SET/mz_332_3.mid\",\n",
    "            \"./DATA SET/mz_333_1.mid\",\n",
    "            \"./DATA SET/mz_333_2.mid\",\n",
    "            \"./DATA SET/mz_333_3.mid\",\n",
    "            \"./DATA SET/mz_545_1.mid\",\n",
    "            \"./DATA SET/mz_545_2.mid\",\n",
    "            \"./DATA SET/mz_545_3.mid\",\n",
    "            \"./DATA SET/mz_570_1.mid\",\n",
    "            \"./DATA SET/mz_570_2.mid\",\n",
    "            \"./DATA SET/mz_570_3.mid\",\n",
    "            \"./DATA SET/schum_abegg.mid\",\n",
    "            \"./DATA SET/scn15_1.mid\",\n",
    "            \"./DATA SET/scn15_10.mid\",\n",
    "            \"./DATA SET/scn15_11.mid\",\n",
    "            \"./DATA SET/scn15_12.mid\",\n",
    "            \"./DATA SET/scn15_13.mid\",\n",
    "            \"./DATA SET/scn15_2.mid\",\n",
    "            \"./DATA SET/scn15_3.mid\",\n",
    "            \"./DATA SET/scn15_4.mid\",\n",
    "            \"./DATA SET/scn15_5.mid\",\n",
    "            \"./DATA SET/scn15_6.mid\",\n",
    "            \"./DATA SET/scn15_7.mid\",\n",
    "            \"./DATA SET/scn15_8.mid\",\n",
    "            \"./DATA SET/scn15_9.mid\",\n",
    "            \"./DATA SET/scn16_1.mid\",\n",
    "            \"./DATA SET/scn16_2.mid\",\n",
    "            \"./DATA SET/scn16_3.mid\",\n",
    "            \"./DATA SET/scn16_4.mid\",\n",
    "            \"./DATA SET/scn16_5.mid\",\n",
    "            \"./DATA SET/scn16_6.mid\",\n",
    "            \"./DATA SET/scn16_7.mid\",\n",
    "            \"./DATA SET/scn16_8.mid\",\n",
    "            \"./DATA SET/scn68_10.mid\",\n",
    "            \"./DATA SET/scn68_12.mid\",\n",
    "            \"./DATA SET/ty_april.mid\",\n",
    "            \"./DATA SET/ty_august.mid\",\n",
    "            \"./DATA SET/ty_dezember.mid\",\n",
    "            \"./DATA SET/ty_februar.mid\",\n",
    "            \"./DATA SET/ty_januar.mid\",\n",
    "            \"./DATA SET/ty_juli.mid\",\n",
    "            \"./DATA SET/ty_juni.mid\",\n",
    "            \"./DATA SET/ty_maerz.mid\",\n",
    "            \"./DATA SET/ty_mai.mid\",\n",
    "            \"./DATA SET/ty_november.mid\",\n",
    "            \"./DATA SET/ty_oktober.mid\",\n",
    "            \"./DATA SET/ty_september.mid\"]"
   ]
  },
  {
   "cell_type": "code",
   "execution_count": 57,
   "metadata": {},
   "outputs": [
    {
     "name": "stdout",
     "output_type": "stream",
     "text": [
      "158\n"
     ]
    }
   ],
   "source": [
    "from mido import  Message, MidiFile, MidiTrack\n",
    "midisongs = []\n",
    "for file in midifiles:\n",
    "    midisong = \"\"\n",
    "    mid = MidiFile(file, clip=True)\n",
    "    for i, track in enumerate(mid.tracks):\n",
    "        for msg in track:\n",
    "            try:\n",
    "                if msg.time>0 and msg.velocity>0:\n",
    "                    midisong = midisong + \"{note},{velocity},{time} \".format(note=msg.note,velocity=msg.velocity,time=msg.time) \n",
    "            except:\n",
    "                pass\n",
    "                \n",
    "    midisongs.append(midisong)\n",
    "print(len(midisongs))"
   ]
  },
  {
   "cell_type": "code",
   "execution_count": 58,
   "metadata": {},
   "outputs": [
    {
     "name": "stdout",
     "output_type": "stream",
     "text": [
      "There are 29010 unique words.\n",
      "There are 56811 sequences.\n"
     ]
    }
   ],
   "source": [
    "training_dict, word_idx, idx_word, sequences = get_data(midisongs, training_len = 100)"
   ]
  },
  {
   "cell_type": "code",
   "execution_count": 59,
   "metadata": {},
   "outputs": [
    {
     "data": {
      "text/plain": [
       "array([[ 1351,  2412, 26427, 26428, 26429, 26430, 26431, 26432,  2251,\n",
       "        12987,  5638,  6437,  1428,  1141,  2035,  6844,  2933,  7127,\n",
       "         9271,  2251, 12987, 26433,   340,  1399,   170,   405,  4256,\n",
       "        26434,  1399, 26435, 26436,  4258, 12988, 10937, 26437, 26438,\n",
       "        26439, 26440, 26441, 26442, 26443, 26444, 26445, 26446, 26447,\n",
       "        26448, 26449, 26450, 26451, 26452, 26453, 26454, 12989, 12989,\n",
       "         1430, 10699, 26455, 26456,  6909,  9475,  7438, 11036,  4161,\n",
       "         9641, 12990,  3080,   760,  2635,  2407,  5751,  2340,  5259,\n",
       "         6711,  1558,  9115,  2486,  1544,   890,  6754, 12991, 26457,\n",
       "        26458, 12992, 11014,  6927, 11016, 26459, 26460, 10881, 26461,\n",
       "        26462, 26463,  4159,  3550,  4648,  1009,  6755,  1369,  2666,\n",
       "         2340]])"
      ]
     },
     "execution_count": 59,
     "metadata": {},
     "output_type": "execute_result"
    },
    {
     "data": {
      "text/plain": [
       "array([[0, 0, 0, ..., 0, 0, 0]], dtype=int8)"
      ]
     },
     "execution_count": 59,
     "metadata": {},
     "output_type": "execute_result"
    }
   ],
   "source": [
    "training_dict['X_train'][:1]\n",
    "training_dict['y_train'][:1]"
   ]
  },
  {
   "cell_type": "code",
   "execution_count": 60,
   "metadata": {},
   "outputs": [
    {
     "name": "stdout",
     "output_type": "stream",
     "text": [
      "Features: 48,26,120 48,25,12 48,21,120 48,21,12 48,18,120 48,15,12 66,44,960 67,45,80 69,46,60 70,46,60 72,47,60 74,48,60 76,49,60 79,47,60 73,51,80 82,47,60 70,51,80 79,45,60 67,51,80 69,46,60 70,46,60 72,51,60 74,51,60 76,53,60 77,54,60 79,55,60 81,55,60 84,56,60 76,53,60 79,53,80 82,54,60 84,55,60 86,56,60 88,58,60 89,59,60 90,60,60 91,61,60 93,62,60 94,63,60 95,64,60 96,65,60 97,66,60 98,67,60 100,68,60 101,74,60 96,69,60 93,68,60 98,66,80 95,66,80 93,66,80 89,66,60 92,66,80 89,66,80 89,66,80 84,66,60 86,66,80 83,66,60 63,51,80 64,52,60 65,52,60 66,53,60 67,53,60 68,54,60 69,54,60 70,55,60 71,55,60 72,56,60 73,56,60 74,57,60 75,57,60 76,58,60 77,58,60 78,59,60 79,59,60 73,61,80 74,62,60 75,63,60 76,63,60 77,64,60 78,65,60 79,65,60 80,66,60 81,67,60 82,67,60 83,67,60 84,68,60 85,69,60 86,71,60 87,72,60 88,73,60 89,75,60 68,60,80 69,65,60 70,60,60 71,60,60 72,62,60 73,61,60 74,60,60 75,59,60 76,58,60\n",
      "\n",
      "Label: 77,57,60\n",
      "\n",
      "Features: 79,70,1 86,87,1 86,75,1 91,73,1 98,73,1 91,82,1 86,72,1 86,72,1 79,71,1 74,81,1 74,69,1 67,69,1 62,69,1 62,101,1 55,70,120 50,70,1 55,70,1 53,63,1 60,82,1 53,66,120 48,99,1 53,62,1 53,62,120 53,70,1 60,70,1 60,70,1 65,85,1 72,71,1 72,70,1 77,70,1 84,91,1 84,73,1 89,73,1 96,73,1 89,82,1 84,72,1 84,72,1 77,71,1 72,81,1 72,69,1 65,69,1 60,69,1 60,104,1 53,73,120 48,73,1 53,73,1 53,68,1 60,82,1 53,66,120 48,100,1 53,62,1 53,62,120 53,73,1 60,73,1 60,73,1 65,85,1 72,71,1 72,70,1 77,70,1 84,89,1 84,75,1 89,73,1 96,73,1 89,82,1 84,72,1 84,72,1 77,71,1 72,81,1 72,69,1 65,69,1 60,69,1 60,106,1 53,70,120 48,70,1 53,70,1 53,63,1 60,82,1 53,66,120 48,104,1 53,62,1 53,62,120 55,69,1 64,69,1 55,70,1 52,84,1 55,72,1 64,73,1 55,73,1 52,88,1 55,72,1 64,73,1 55,73,1 52,86,1 55,72,1 64,73,1 55,73,1 52,95,1 55,79,1 64,79,1 55,79,1\n",
      "\n",
      "Label: 52,94,1\n",
      "\n"
     ]
    }
   ],
   "source": [
    "for i, sequence in enumerate(training_dict['X_train'][:2]):\n",
    "    text = []\n",
    "    for idx in sequence:\n",
    "        text.append(idx_word[idx])\n",
    "        \n",
    "    print('Features: ' + ' '.join(text) + '\\n')\n",
    "    print('Label: ' + idx_word[np.argmax(training_dict['y_train'][i])] + '\\n')"
   ]
  },
  {
   "cell_type": "code",
   "execution_count": 61,
   "metadata": {},
   "outputs": [],
   "source": [
    "from keras.models import Sequential, load_model\n",
    "from keras.layers import LSTM, Dense, Dropout, Embedding, Masking, Bidirectional\n",
    "from keras.optimizers import Adam\n",
    "\n",
    "from keras.utils import plot_model"
   ]
  },
  {
   "cell_type": "code",
   "execution_count": 62,
   "metadata": {},
   "outputs": [
    {
     "name": "stdout",
     "output_type": "stream",
     "text": [
      "_________________________________________________________________\n",
      "Layer (type)                 Output Shape              Param #   \n",
      "=================================================================\n",
      "embedding_2 (Embedding)      (None, None, 100)         2901000   \n",
      "_________________________________________________________________\n",
      "lstm_2 (LSTM)                (None, 64)                42240     \n",
      "_________________________________________________________________\n",
      "dense_3 (Dense)              (None, 64)                4160      \n",
      "_________________________________________________________________\n",
      "dropout_2 (Dropout)          (None, 64)                0         \n",
      "_________________________________________________________________\n",
      "dense_4 (Dense)              (None, 29010)             1885650   \n",
      "=================================================================\n",
      "Total params: 4,833,050\n",
      "Trainable params: 4,833,050\n",
      "Non-trainable params: 0\n",
      "_________________________________________________________________\n"
     ]
    }
   ],
   "source": [
    "model = Sequential()\n",
    "\n",
    "# Embedding layer\n",
    "model.add(\n",
    "    Embedding(\n",
    "        input_dim=len(word_idx) + 1,\n",
    "        output_dim=100,\n",
    "        weights=None,\n",
    "        trainable=True))\n",
    "\n",
    "# Recurrent layer\n",
    "model.add(\n",
    "    LSTM(\n",
    "        64, return_sequences=False, dropout=0.1,\n",
    "        recurrent_dropout=0.1))\n",
    "\n",
    "# Fully connected layer\n",
    "model.add(Dense(64, activation='relu'))\n",
    "\n",
    "# Dropout for regularization\n",
    "model.add(Dropout(0.5))\n",
    "\n",
    "# Output layer\n",
    "model.add(Dense(len(word_idx) + 1, activation='softmax'))\n",
    "\n",
    "# Compile the model\n",
    "model.compile(\n",
    "    optimizer='adam', loss='categorical_crossentropy', metrics=['accuracy'])\n",
    "\n",
    "model.summary()"
   ]
  },
  {
   "cell_type": "code",
   "execution_count": 63,
   "metadata": {},
   "outputs": [
    {
     "data": {
      "text/plain": [
       "['',\n",
       " '70,45,100',\n",
       " '84,64,80',\n",
       " '86,87,120',\n",
       " '82,91,240',\n",
       " '64,55,120',\n",
       " '31,46,1',\n",
       " '43,76,1',\n",
       " '89,30,180',\n",
       " '52,56,360',\n",
       " '54,49,120',\n",
       " '43,49,95',\n",
       " '65,48,12',\n",
       " '81,62,76',\n",
       " '49,85,480',\n",
       " '38,48,120',\n",
       " '83,45,60',\n",
       " '44,50,99',\n",
       " '64,49,1680',\n",
       " '91,44,60',\n",
       " '72,50,50',\n",
       " '42,63,210',\n",
       " '88,91,240',\n",
       " '62,46,960',\n",
       " '75,46,960',\n",
       " '84,42,360',\n",
       " '48,51,107',\n",
       " '71,42,12',\n",
       " '58,35,420',\n",
       " '81,65,60',\n",
       " '88,77,60',\n",
       " '48,41,180',\n",
       " '84,68,30',\n",
       " '31,43,120',\n",
       " '73,35,5760',\n",
       " '45,53,960',\n",
       " '77,55,24',\n",
       " '100,74,30',\n",
       " '69,50,360',\n",
       " '57,43,480',\n",
       " '79,67,96',\n",
       " '64,53,120',\n",
       " '56,57,480',\n",
       " '77,58,100',\n",
       " '56,66,75',\n",
       " '67,36,180',\n",
       " '72,44,180',\n",
       " '46,50,960',\n",
       " '48,59,105',\n",
       " '50,39,106',\n",
       " '70,80,240',\n",
       " '35,55,49',\n",
       " '59,79,55',\n",
       " '65,75,3',\n",
       " '99,57,110',\n",
       " '68,33,64',\n",
       " '99,69,77',\n",
       " '59,51,150',\n",
       " '62,48,480',\n",
       " '39,52,120',\n",
       " '49,37,110',\n",
       " '62,35,720',\n",
       " '51,67,96',\n",
       " '55,62,108',\n",
       " '64,80,840',\n",
       " '72,56,30',\n",
       " '65,64,150',\n",
       " '64,56,90',\n",
       " '72,76,245',\n",
       " '41,68,296',\n",
       " '86,72,79',\n",
       " '52,20,12',\n",
       " '57,36,108',\n",
       " '53,28,120',\n",
       " '44,26,160',\n",
       " '60,57,150',\n",
       " '44,84,480',\n",
       " '69,48,60',\n",
       " '81,93,9',\n",
       " '33,60,90',\n",
       " '88,92,100',\n",
       " '84,68,180',\n",
       " '65,65,30',\n",
       " '74,33,151',\n",
       " '36,70,120',\n",
       " '69,64,2',\n",
       " '46,23,120',\n",
       " '48,44,160',\n",
       " '79,59,300',\n",
       " '71,67,1',\n",
       " '60,29,120',\n",
       " '75,47,28',\n",
       " '80,56,80',\n",
       " '68,46,108',\n",
       " '68,73,30',\n",
       " '76,43,108',\n",
       " '57,35,720',\n",
       " '54,43,24',\n",
       " '45,46,205',\n",
       " '58,45,78',\n",
       " '69,66,1']"
      ]
     },
     "execution_count": 63,
     "metadata": {},
     "output_type": "execute_result"
    }
   ],
   "source": [
    "rnnsong = generate_output(model, sequences, idx_word, seed_length = 100, new_words = 100, diversity = 0.75)\n",
    "rnnsong[0]"
   ]
  },
  {
   "cell_type": "code",
   "execution_count": 65,
   "metadata": {},
   "outputs": [],
   "source": [
    "mid = MidiFile()\n",
    "track = MidiTrack()\n",
    "mid.tracks.append(track)\n",
    "\n",
    "track.append(Message('program_change', program=12, time=0))\n",
    "x = 0\n",
    "for i in rnnsong[0]:\n",
    "    if x != 0:\n",
    "        res = i.split(\",\")\n",
    "        track.append(Message('note_on', note=int(res[0]), velocity=int(res[1]), time=int(res[2])))\n",
    "    else: \n",
    "        pass\n",
    "    x= x+1\n",
    "\n",
    "track.append(Message('note_off', note=0, velocity=127, time=0))\n",
    "\n",
    "mid.save('new_song.mid')"
   ]
  },
  {
   "cell_type": "code",
   "execution_count": 56,
   "metadata": {},
   "outputs": [
    {
     "data": {
      "text/plain": [
       "<generator object MidiFile.play at 0x000001F38E8AF660>"
      ]
     },
     "execution_count": 56,
     "metadata": {},
     "output_type": "execute_result"
    }
   ],
   "source": []
  },
  {
   "cell_type": "code",
   "execution_count": null,
   "metadata": {},
   "outputs": [],
   "source": []
  }
 ],
 "metadata": {
  "kernelspec": {
   "display_name": "Python 3",
   "language": "python",
   "name": "python3"
  },
  "language_info": {
   "codemirror_mode": {
    "name": "ipython",
    "version": 3
   },
   "file_extension": ".py",
   "mimetype": "text/x-python",
   "name": "python",
   "nbconvert_exporter": "python",
   "pygments_lexer": "ipython3",
   "version": "3.7.3"
  }
 },
 "nbformat": 4,
 "nbformat_minor": 4
}
